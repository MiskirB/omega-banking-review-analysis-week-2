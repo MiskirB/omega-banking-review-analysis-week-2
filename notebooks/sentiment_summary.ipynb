{
 "cells": [
  {
   "cell_type": "code",
   "execution_count": 15,
   "metadata": {},
   "outputs": [
    {
     "name": "stdout",
     "output_type": "stream",
     "text": [
      "                           bank  rating sentiment_label  review_count  \\\n",
      "0             Bank of Abyssinia       1        negative           193   \n",
      "1             Bank of Abyssinia       1        positive            19   \n",
      "2             Bank of Abyssinia       2        negative            14   \n",
      "3             Bank of Abyssinia       2        positive             1   \n",
      "4             Bank of Abyssinia       3        negative            20   \n",
      "5             Bank of Abyssinia       3        positive             9   \n",
      "6             Bank of Abyssinia       4        negative             9   \n",
      "7             Bank of Abyssinia       4        positive             4   \n",
      "8             Bank of Abyssinia       5        negative            49   \n",
      "9             Bank of Abyssinia       5        positive            92   \n",
      "10  Commercial Bank of Ethiopia       1        negative            42   \n",
      "11  Commercial Bank of Ethiopia       1        positive             9   \n",
      "12  Commercial Bank of Ethiopia       2        negative            11   \n",
      "13  Commercial Bank of Ethiopia       2        positive             3   \n",
      "14  Commercial Bank of Ethiopia       3        negative            21   \n",
      "15  Commercial Bank of Ethiopia       3        positive             4   \n",
      "16  Commercial Bank of Ethiopia       4        negative            23   \n",
      "17  Commercial Bank of Ethiopia       4        positive            18   \n",
      "18  Commercial Bank of Ethiopia       5        negative            53   \n",
      "19  Commercial Bank of Ethiopia       5        positive           206   \n",
      "20                  Dashen Bank       1        negative            31   \n",
      "21                  Dashen Bank       1        positive             2   \n",
      "22                  Dashen Bank       2        negative            15   \n",
      "23                  Dashen Bank       2        positive             2   \n",
      "24                  Dashen Bank       3        negative             6   \n",
      "25                  Dashen Bank       3        positive             5   \n",
      "26                  Dashen Bank       4        negative            12   \n",
      "27                  Dashen Bank       4        positive             7   \n",
      "28                  Dashen Bank       5        negative            34   \n",
      "29                  Dashen Bank       5        positive           264   \n",
      "\n",
      "    avg_sentiment_score  \n",
      "0              0.975585  \n",
      "1              0.948605  \n",
      "2              0.945431  \n",
      "3              0.739469  \n",
      "4              0.955158  \n",
      "5              0.934494  \n",
      "6              0.934792  \n",
      "7              0.959657  \n",
      "8              0.874443  \n",
      "9              0.983540  \n",
      "10             0.966618  \n",
      "11             0.957434  \n",
      "12             0.996022  \n",
      "13             0.918165  \n",
      "14             0.968598  \n",
      "15             0.999615  \n",
      "16             0.962362  \n",
      "17             0.949666  \n",
      "18             0.890258  \n",
      "19             0.987919  \n",
      "20             0.998744  \n",
      "21             0.938563  \n",
      "22             0.955711  \n",
      "23             0.992867  \n",
      "24             0.998138  \n",
      "25             0.996595  \n",
      "26             0.953309  \n",
      "27             0.952770  \n",
      "28             0.933225  \n",
      "29             0.993860  \n",
      "✅ Saved: sentiment_summary_by_bank_rating.csv\n"
     ]
    }
   ],
   "source": [
    "import pandas as pd\n",
    "\n",
    "# Load sentiment-labeled data\n",
    "df = pd.read_csv(\"../data/bank_reviews_with_sentiment.csv\")\n",
    "\n",
    "# Clean sentiment label\n",
    "df['sentiment_label'] = df['sentiment_label'].str.lower()\n",
    "\n",
    "# Group by bank, rating, and sentiment\n",
    "summary = df.groupby(['bank', 'rating', 'sentiment_label']).agg(\n",
    "    review_count=('review', 'count'),\n",
    "    avg_sentiment_score=('sentiment_score', 'mean')\n",
    ").reset_index()\n",
    "\n",
    "# Show result\n",
    "print(summary)\n",
    "\n",
    "# Save summary to CSV\n",
    "summary.to_csv(\"../data/sentiment_summary_by_bank_rating.csv\", index=False)\n",
    "print(\"✅ Saved: sentiment_summary_by_bank_rating.csv\")\n"
   ]
  },
  {
   "cell_type": "code",
   "execution_count": null,
   "metadata": {},
   "outputs": [],
   "source": []
  },
  {
   "cell_type": "code",
   "execution_count": null,
   "metadata": {},
   "outputs": [],
   "source": []
  }
 ],
 "metadata": {
  "kernelspec": {
   "display_name": "myenv",
   "language": "python",
   "name": "python3"
  },
  "language_info": {
   "codemirror_mode": {
    "name": "ipython",
    "version": 3
   },
   "file_extension": ".py",
   "mimetype": "text/x-python",
   "name": "python",
   "nbconvert_exporter": "python",
   "pygments_lexer": "ipython3",
   "version": "3.13.2"
  }
 },
 "nbformat": 4,
 "nbformat_minor": 2
}
